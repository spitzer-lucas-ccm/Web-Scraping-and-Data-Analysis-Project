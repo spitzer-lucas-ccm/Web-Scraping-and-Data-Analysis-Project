{
 "cells": [
  {
   "cell_type": "markdown",
   "metadata": {},
   "source": [
    "# Scraping Wikipedia for World Coutnry Data"
   ]
  },
  {
   "cell_type": "code",
   "execution_count": 1,
   "metadata": {},
   "outputs": [
    {
     "name": "stderr",
     "output_type": "stream",
     "text": [
      "C:\\Users\\Lucas\\AppData\\Local\\Temp\\ipykernel_8976\\984128285.py:3: DeprecationWarning: \n",
      "Pyarrow will become a required dependency of pandas in the next major release of pandas (pandas 3.0),\n",
      "(to allow more performant data types, such as the Arrow string type, and better interoperability with other libraries)\n",
      "but was not found to be installed on your system.\n",
      "If this would cause problems for you,\n",
      "please provide us feedback at https://github.com/pandas-dev/pandas/issues/54466\n",
      "        \n",
      "  import pandas as pd\n"
     ]
    }
   ],
   "source": [
    "# Importing Cleaning Packages\n",
    "import re\n",
    "import pandas as pd\n",
    "\n",
    "# Importing Data Viz Packages\n",
    "import seaborn as sns\n",
    "import matplotlib.pyplot as plt"
   ]
  },
  {
   "cell_type": "markdown",
   "metadata": {},
   "source": [
    "### Capturing World Population Data by Country"
   ]
  },
  {
   "cell_type": "code",
   "execution_count": 22,
   "metadata": {},
   "outputs": [
    {
     "name": "stdout",
     "output_type": "stream",
     "text": [
      "                                Location  Population % of World Population\n",
      "0                                  World  8098329000                  100%\n",
      "1                                  China  1409670000                 17.4%\n",
      "2                                  India  1392329000                 17.2%\n",
      "3                          United States   335893238                  4.1%\n",
      "4                              Indonesia   279118866                  3.4%\n",
      "..                                   ...         ...                   ...\n",
      "236                                 Niue        1689                    0%\n",
      "237                         Tokelau (NZ)        1647                    0%\n",
      "238                         Vatican City         764                    0%\n",
      "239  Cocos (Keeling) Islands (Australia)         593                    0%\n",
      "240                Pitcairn Islands (UK)          47                    0%\n",
      "\n",
      "[241 rows x 3 columns]\n"
     ]
    }
   ],
   "source": [
    "wikipedia = \"https://en.wikipedia.org/wiki/\" # Wikipedia Root URL\n",
    "population = \"List_of_countries_and_dependencies_by_population\" # World Population Sub-URL\n",
    "\n",
    "tables = pd.read_html(wikipedia + population)\n",
    "\n",
    "population_df = tables[0]  # Index of the population data table\n",
    "\n",
    "# Loop through each cell and remove brackets and their inner characters\n",
    "for col in population_df.columns:\n",
    "    population_df[col] = population_df[col].apply(lambda x: re.sub(r'\\[.*?\\]', '', str(x)))\n",
    "\n",
    "# Drop Unecessary Columns\n",
    "\n",
    "# Drop the columns\n",
    "population_df = population_df.drop(columns=['Unnamed: 0', 'Unnamed: 6'])\n",
    "\n",
    "# Dropping unnecessary columns\n",
    "population_df = population_df.drop(columns=['Date', 'Source (official or from the United Nations)'])\n",
    "\n",
    "# Rename Columns\n",
    "population_df = population_df.rename(columns={'% of world': '% of World Population'})\n",
    "\n",
    "# Display DataFrame\n",
    "print(population_df)\n",
    "\n",
    "# Save DataFrame to CSV\n",
    "population_df.to_csv('population.csv', index=False)"
   ]
  },
  {
   "cell_type": "markdown",
   "metadata": {},
   "source": [
    "### Capturing World Nominal GDP Data by Country"
   ]
  },
  {
   "cell_type": "code",
   "execution_count": 23,
   "metadata": {},
   "outputs": [
    {
     "name": "stdout",
     "output_type": "stream",
     "text": [
      "           Country    Region IMF Nominal Forecast (millions)\n",
      "0            World       N/A                       104476432\n",
      "1    United States  Americas                        26949643\n",
      "2            China      Asia                        17700899\n",
      "3          Germany    Europe                         4429838\n",
      "4            Japan      Asia                         4230862\n",
      "..             ...       ...                             ...\n",
      "208          Palau   Oceania                             267\n",
      "209       Kiribati   Oceania                             246\n",
      "210          Nauru   Oceania                             150\n",
      "211     Montserrat  Americas                               —\n",
      "212         Tuvalu   Oceania                              63\n",
      "\n",
      "[213 rows x 3 columns]\n"
     ]
    },
    {
     "name": "stderr",
     "output_type": "stream",
     "text": [
      "C:\\Users\\Lucas\\AppData\\Local\\Temp\\ipykernel_8976\\717906159.py:14: PerformanceWarning: dropping on a non-lexsorted multi-index without a level parameter may impact performance.\n",
      "  GDP_nominal_df = GDP_nominal_df.drop(columns=['World Bank[14]', 'United Nations[15]'])\n"
     ]
    }
   ],
   "source": [
    "GDP_nominal = \"List_of_countries_by_GDP_(nominal)\" # World GDP Nominal Sub-URL\n",
    "\n",
    "tables = pd.read_html(wikipedia + GDP_nominal)\n",
    "\n",
    "GDP_nominal_df = tables[2]  # Index of the nominal GDP data table\n",
    "\n",
    "# Loop through each cell and remove brackets and their inner characters\n",
    "for col in GDP_nominal_df.columns:\n",
    "    GDP_nominal_df[col] = GDP_nominal_df[col].apply(lambda x: re.sub(r'\\[.*?\\]', '', str(x)))\n",
    "\n",
    "# Drop unnecessary columns (Only Using IMF Data)\n",
    "GDP_nominal_df = GDP_nominal_df.drop(columns=['World Bank[14]', 'United Nations[15]'])\n",
    "\n",
    "# Remove the first level of the MultiIndex for columns\n",
    "GDP_nominal_df.columns = GDP_nominal_df.columns.droplevel(0)\n",
    "\n",
    "# Drop year column now that level has been reduced\n",
    "GDP_nominal_df = GDP_nominal_df.drop(columns=['Year'])\n",
    "\n",
    "# Rename Columns\n",
    "GDP_nominal_df = GDP_nominal_df.rename(columns={'Country/Territory': 'Country', 'UN region': 'Region', 'Forecast':'IMF Nominal Forecast (millions)'})\n",
    "\n",
    "# Replace World Region With String \"N/A\"\n",
    "GDP_nominal_df.loc[0, 'Region'] = \"N/A\"\n",
    "\n",
    "# Display DataFrame\n",
    "print(GDP_nominal_df)\n",
    "\n",
    "# Save DataFrame to CSV\n",
    "GDP_nominal_df.to_csv('nominal.csv', index=False)"
   ]
  },
  {
   "cell_type": "markdown",
   "metadata": {},
   "source": [
    "### Capturing World PPP GDP Data by Country"
   ]
  },
  {
   "cell_type": "code",
   "execution_count": 42,
   "metadata": {},
   "outputs": [
    {
     "name": "stdout",
     "output_type": "stream",
     "text": [
      "Index(['Country (or territory)', 'UN region', 'Forecast', 'Year'], dtype='object')\n",
      "                                          Country IMF PPP Forecast (millions)\n",
      "0                                           World                   183950000\n",
      "1                                           China                    35042689\n",
      "2                                   United States                    27966553\n",
      "3                                           India                    14261176\n",
      "4                                           Japan                     6710984\n",
      "..                                            ...                         ...\n",
      "224                                        Tuvalu                          63\n",
      "225                             Wallis and Futuna                           —\n",
      "226  Saint Helena, Ascension and Tristan da Cunha                           —\n",
      "227                                          Niue                           —\n",
      "228                                       Tokelau                           —\n",
      "\n",
      "[229 rows x 2 columns]\n"
     ]
    },
    {
     "name": "stderr",
     "output_type": "stream",
     "text": [
      "C:\\Users\\Lucas\\AppData\\Local\\Temp\\ipykernel_8976\\1102799623.py:12: PerformanceWarning: dropping on a non-lexsorted multi-index without a level parameter may impact performance.\n",
      "  GDP_ppp_df = GDP_ppp_df.drop(columns=['World Bank[6]', 'CIA[7][8][9]'])\n"
     ]
    }
   ],
   "source": [
    "GDP_ppp = \"List_of_countries_by_GDP_(PPP)\" # World GDP PPP Sub-URL\n",
    "\n",
    "tables = pd.read_html(wikipedia + GDP_ppp)\n",
    "\n",
    "GDP_ppp_df = tables[1]  # Index of the PPP GDP data table\n",
    "\n",
    "# Loop through each cell and remove brackets and their inner characters\n",
    "for col in GDP_ppp_df.columns:\n",
    "    GDP_ppp_df[col] = GDP_ppp_df[col].apply(lambda x: re.sub(r'\\[.*?\\]', '', str(x)))\n",
    "\n",
    "# Drop unnecessary columns (Only Using IMF Data)\n",
    "GDP_ppp_df = GDP_ppp_df.drop(columns=['World Bank[6]', 'CIA[7][8][9]'])\n",
    "\n",
    "# Remove the first level of the MultiIndex for columns\n",
    "GDP_ppp_df.columns = GDP_ppp_df.columns.droplevel(0)\n",
    "\n",
    "\n",
    "print(GDP_ppp_df.columns)\n",
    "# Drop year column now that level has been reduced\n",
    "GDP_ppp_df = GDP_ppp_df.drop(columns=['Year', 'UN region'])\n",
    "\n",
    "# Rename Columns\n",
    "GDP_ppp_df = GDP_ppp_df.rename(columns={'Country (or territory)': 'Country', 'Forecast':'IMF PPP Forecast (millions)'})\n",
    "\n",
    "# Display DataFrame\n",
    "print(GDP_ppp_df)\n",
    "\n",
    "# Save DataFrame to CSV\n",
    "GDP_ppp_df.to_csv('ppp.csv', index=False)"
   ]
  },
  {
   "cell_type": "markdown",
   "metadata": {},
   "source": [
    "### Capturing World Size Data by Country"
   ]
  },
  {
   "cell_type": "code",
   "execution_count": 44,
   "metadata": {},
   "outputs": [
    {
     "name": "stdout",
     "output_type": "stream",
     "text": [
      "                                     Country              Total in km^2  \\\n",
      "0                                      Earth  510,072,000 (196,940,000)   \n",
      "1                                     Russia     17,098,246 (6,601,667)   \n",
      "2                                 Antarctica     14,200,000 (5,480,000)   \n",
      "3                                     Canada      9,984,670 (3,855,100)   \n",
      "4                                      China      9,596,960 (3,705,410)   \n",
      "..                                       ...                        ...   \n",
      "259  Ashmore and Cartier Islands (Australia)                  5.0 (1.9)   \n",
      "260            Coral Sea Islands (Australia)                  3.0 (1.2)   \n",
      "261               Spratly Islands (disputed)                 2.0 (0.77)   \n",
      "262                                   Monaco                 2.0 (0.77)   \n",
      "263                             Vatican City                0.49 (0.19)   \n",
      "\n",
      "                 Land in km^2              Water in km^2  \n",
      "0    148,940,000 (57,506,000)  361,132,000 (139,434,000)  \n",
      "1      16,376,870 (6,323,142)          721,380 (278,530)  \n",
      "2      14,200,000 (5,480,000)                          0  \n",
      "3       9,093,507 (3,511,021)          891,163 (344,080)  \n",
      "4       9,326,410 (3,600,950)          270,550 (104,460)  \n",
      "..                        ...                        ...  \n",
      "259                 5.0 (1.9)                          0  \n",
      "260                 3.0 (1.2)                          0  \n",
      "261                2.0 (0.77)                          0  \n",
      "262                2.0 (0.77)                          0  \n",
      "263               0.49 (0.19)                          0  \n",
      "\n",
      "[264 rows x 4 columns]\n"
     ]
    }
   ],
   "source": [
    "size = \"List_of_countries_and_dependencies_by_area\" # World Country Size Sub-URL\n",
    "\n",
    "tables = pd.read_html(wikipedia + size)\n",
    "\n",
    "size_df = tables[1]  # Index of the size data table\n",
    "\n",
    "# Loop through each cell and remove brackets and their inner characters\n",
    "for col in size_df.columns:\n",
    "    size_df[col] = size_df[col].apply(lambda x: re.sub(r'\\[.*?\\]', '', str(x)))\n",
    "\n",
    "# Drop unnecessary columns\n",
    "size_df = size_df.drop(columns=['Unnamed: 0', 'Unnamed: 6', '% water'])\n",
    "\n",
    "# Rename Columns\n",
    "size_df = size_df.rename(columns={'Country / dependency': 'Country', 'Total in km2 (mi2)':'Total in km^2', 'Land in km2 (mi2)': 'Land in km^2', 'Water in km2 (mi2)': 'Water in km^2'})\n",
    "\n",
    "print(size_df)\n",
    "size_df.to_csv('size.csv', index=False)"
   ]
  }
 ],
 "metadata": {
  "kernelspec": {
   "display_name": "Python 3",
   "language": "python",
   "name": "python3"
  },
  "language_info": {
   "codemirror_mode": {
    "name": "ipython",
    "version": 3
   },
   "file_extension": ".py",
   "mimetype": "text/x-python",
   "name": "python",
   "nbconvert_exporter": "python",
   "pygments_lexer": "ipython3",
   "version": "3.11.8"
  }
 },
 "nbformat": 4,
 "nbformat_minor": 2
}
