{
 "cells": [
  {
   "cell_type": "markdown",
   "metadata": {},
   "source": [
    "# Scraping Wikipedia for World Coutnry Data"
   ]
  },
  {
   "cell_type": "code",
   "execution_count": 1,
   "metadata": {},
   "outputs": [
    {
     "name": "stderr",
     "output_type": "stream",
     "text": [
      "C:\\Users\\Lucas\\AppData\\Local\\Temp\\ipykernel_8976\\984128285.py:3: DeprecationWarning: \n",
      "Pyarrow will become a required dependency of pandas in the next major release of pandas (pandas 3.0),\n",
      "(to allow more performant data types, such as the Arrow string type, and better interoperability with other libraries)\n",
      "but was not found to be installed on your system.\n",
      "If this would cause problems for you,\n",
      "please provide us feedback at https://github.com/pandas-dev/pandas/issues/54466\n",
      "        \n",
      "  import pandas as pd\n"
     ]
    }
   ],
   "source": [
    "# Importing Cleaning Packages\n",
    "import re\n",
    "import pandas as pd\n",
    "\n",
    "# Importing Data Viz Packages\n",
    "import seaborn as sns\n",
    "import matplotlib.pyplot as plt"
   ]
  },
  {
   "cell_type": "markdown",
   "metadata": {},
   "source": [
    "### Capturing World Population Data by Country"
   ]
  },
  {
   "cell_type": "code",
   "execution_count": 22,
   "metadata": {},
   "outputs": [
    {
     "name": "stdout",
     "output_type": "stream",
     "text": [
      "                                Location  Population % of World Population\n",
      "0                                  World  8098329000                  100%\n",
      "1                                  China  1409670000                 17.4%\n",
      "2                                  India  1392329000                 17.2%\n",
      "3                          United States   335893238                  4.1%\n",
      "4                              Indonesia   279118866                  3.4%\n",
      "..                                   ...         ...                   ...\n",
      "236                                 Niue        1689                    0%\n",
      "237                         Tokelau (NZ)        1647                    0%\n",
      "238                         Vatican City         764                    0%\n",
      "239  Cocos (Keeling) Islands (Australia)         593                    0%\n",
      "240                Pitcairn Islands (UK)          47                    0%\n",
      "\n",
      "[241 rows x 3 columns]\n"
     ]
    }
   ],
   "source": [
    "wikipedia = \"https://en.wikipedia.org/wiki/\" # Wikipedia Root URL\n",
    "population = \"List_of_countries_and_dependencies_by_population\" # World Population Sub-URL\n",
    "\n",
    "tables = pd.read_html(wikipedia + population)\n",
    "\n",
    "population_df = tables[0]  # Index of the population data table\n",
    "\n",
    "# Loop through each cell and remove brackets and their inner characters\n",
    "for col in population_df.columns:\n",
    "    population_df[col] = population_df[col].apply(lambda x: re.sub(r'\\[.*?\\]', '', str(x)))\n",
    "\n",
    "# Drop Unecessary Columns\n",
    "\n",
    "# Drop the columns\n",
    "population_df = population_df.drop(columns=['Unnamed: 0', 'Unnamed: 6'])\n",
    "\n",
    "# Dropping unnecessary columns\n",
    "population_df = population_df.drop(columns=['Date', 'Source (official or from the United Nations)'])\n",
    "\n",
    "# Rename Columns\n",
    "population_df = population_df.rename(columns={'% of world': '% of World Population'})\n",
    "\n",
    "# Display DataFrame\n",
    "print(population_df)\n",
    "\n",
    "# Save DataFrame to CSV\n",
    "population_df.to_csv('population.csv', index=False)"
   ]
  },
  {
   "cell_type": "markdown",
   "metadata": {},
   "source": [
    "### Capturing World Nominal GDP Data by Country"
   ]
  },
  {
   "cell_type": "code",
   "execution_count": 23,
   "metadata": {},
   "outputs": [
    {
     "name": "stdout",
     "output_type": "stream",
     "text": [
      "           Country    Region IMF Nominal Forecast (millions)\n",
      "0            World       N/A                       104476432\n",
      "1    United States  Americas                        26949643\n",
      "2            China      Asia                        17700899\n",
      "3          Germany    Europe                         4429838\n",
      "4            Japan      Asia                         4230862\n",
      "..             ...       ...                             ...\n",
      "208          Palau   Oceania                             267\n",
      "209       Kiribati   Oceania                             246\n",
      "210          Nauru   Oceania                             150\n",
      "211     Montserrat  Americas                               —\n",
      "212         Tuvalu   Oceania                              63\n",
      "\n",
      "[213 rows x 3 columns]\n"
     ]
    },
    {
     "name": "stderr",
     "output_type": "stream",
     "text": [
      "C:\\Users\\Lucas\\AppData\\Local\\Temp\\ipykernel_8976\\717906159.py:14: PerformanceWarning: dropping on a non-lexsorted multi-index without a level parameter may impact performance.\n",
      "  GDP_nominal_df = GDP_nominal_df.drop(columns=['World Bank[14]', 'United Nations[15]'])\n"
     ]
    }
   ],
   "source": [
    "GDP_nominal = \"List_of_countries_by_GDP_(nominal)\" # World GDP Nominal Sub-URL\n",
    "\n",
    "tables = pd.read_html(wikipedia + GDP_nominal)\n",
    "\n",
    "GDP_nominal_df = tables[2]  # Index of the nominal GDP data table\n",
    "\n",
    "# Loop through each cell and remove brackets and their inner characters\n",
    "for col in GDP_nominal_df.columns:\n",
    "    GDP_nominal_df[col] = GDP_nominal_df[col].apply(lambda x: re.sub(r'\\[.*?\\]', '', str(x)))\n",
    "\n",
    "# Drop unnecessary columns (Only Using IMF Data)\n",
    "GDP_nominal_df = GDP_nominal_df.drop(columns=['World Bank[14]', 'United Nations[15]'])\n",
    "\n",
    "# Remove the first level of the MultiIndex for columns\n",
    "GDP_nominal_df.columns = GDP_nominal_df.columns.droplevel(0)\n",
    "\n",
    "# Drop year column now that level has been reduced\n",
    "GDP_nominal_df = GDP_nominal_df.drop(columns=['Year'])\n",
    "\n",
    "# Rename Columns\n",
    "GDP_nominal_df = GDP_nominal_df.rename(columns={'Country/Territory': 'Country', 'UN region': 'Region', 'Forecast':'IMF Nominal Forecast (millions)'})\n",
    "\n",
    "# Replace World Region With String \"N/A\"\n",
    "GDP_nominal_df.loc[0, 'Region'] = \"N/A\"\n",
    "\n",
    "# Display DataFrame\n",
    "print(GDP_nominal_df)\n",
    "\n",
    "# Save DataFrame to CSV\n",
    "GDP_nominal_df.to_csv('nominal.csv', index=False)"
   ]
  },
  {
   "cell_type": "markdown",
   "metadata": {},
   "source": [
    "### Capturing World PPP GDP Data by Country"
   ]
  },
  {
   "cell_type": "code",
   "execution_count": 42,
   "metadata": {},
   "outputs": [
    {
     "name": "stdout",
     "output_type": "stream",
     "text": [
      "Index(['Country (or territory)', 'UN region', 'Forecast', 'Year'], dtype='object')\n",
      "                                          Country IMF PPP Forecast (millions)\n",
      "0                                           World                   183950000\n",
      "1                                           China                    35042689\n",
      "2                                   United States                    27966553\n",
      "3                                           India                    14261176\n",
      "4                                           Japan                     6710984\n",
      "..                                            ...                         ...\n",
      "224                                        Tuvalu                          63\n",
      "225                             Wallis and Futuna                           —\n",
      "226  Saint Helena, Ascension and Tristan da Cunha                           —\n",
      "227                                          Niue                           —\n",
      "228                                       Tokelau                           —\n",
      "\n",
      "[229 rows x 2 columns]\n"
     ]
    },
    {
     "name": "stderr",
     "output_type": "stream",
     "text": [
      "C:\\Users\\Lucas\\AppData\\Local\\Temp\\ipykernel_8976\\1102799623.py:12: PerformanceWarning: dropping on a non-lexsorted multi-index without a level parameter may impact performance.\n",
      "  GDP_ppp_df = GDP_ppp_df.drop(columns=['World Bank[6]', 'CIA[7][8][9]'])\n"
     ]
    }
   ],
   "source": [
    "GDP_ppp = \"List_of_countries_by_GDP_(PPP)\" # World GDP PPP Sub-URL\n",
    "\n",
    "tables = pd.read_html(wikipedia + GDP_ppp)\n",
    "\n",
    "GDP_ppp_df = tables[1]  # Index of the PPP GDP data table\n",
    "\n",
    "# Loop through each cell and remove brackets and their inner characters\n",
    "for col in GDP_ppp_df.columns:\n",
    "    GDP_ppp_df[col] = GDP_ppp_df[col].apply(lambda x: re.sub(r'\\[.*?\\]', '', str(x)))\n",
    "\n",
    "# Drop unnecessary columns (Only Using IMF Data)\n",
    "GDP_ppp_df = GDP_ppp_df.drop(columns=['World Bank[6]', 'CIA[7][8][9]'])\n",
    "\n",
    "# Remove the first level of the MultiIndex for columns\n",
    "GDP_ppp_df.columns = GDP_ppp_df.columns.droplevel(0)\n",
    "\n",
    "\n",
    "print(GDP_ppp_df.columns)\n",
    "# Drop year column now that level has been reduced\n",
    "GDP_ppp_df = GDP_ppp_df.drop(columns=['Year', 'UN region'])\n",
    "\n",
    "# Rename Columns\n",
    "GDP_ppp_df = GDP_ppp_df.rename(columns={'Country (or territory)': 'Country', 'Forecast':'IMF PPP Forecast (millions)'})\n",
    "\n",
    "# Display DataFrame\n",
    "print(GDP_ppp_df)\n",
    "\n",
    "# Save DataFrame to CSV\n",
    "GDP_ppp_df.to_csv('ppp.csv', index=False)"
   ]
  },
  {
   "cell_type": "markdown",
   "metadata": {},
   "source": [
    "### Capturing World Size Data by Country"
   ]
  },
  {
   "cell_type": "code",
   "execution_count": 49,
   "metadata": {},
   "outputs": [
    {
     "name": "stderr",
     "output_type": "stream",
     "text": [
      "C:\\Users\\Lucas\\AppData\\Local\\Temp\\ipykernel_8976\\438003708.py:19: FutureWarning: DataFrame.applymap has been deprecated. Use DataFrame.map instead.\n",
      "  size_df[cols_to_clean] = size_df[cols_to_clean].applymap(lambda x: str(x).replace(' ', ''))\n",
      "C:\\Users\\Lucas\\AppData\\Local\\Temp\\ipykernel_8976\\438003708.py:20: FutureWarning: DataFrame.applymap has been deprecated. Use DataFrame.map instead.\n",
      "  size_df[cols_to_clean] = size_df[cols_to_clean].applymap(lambda x: str(x).replace(',', ''))\n",
      "C:\\Users\\Lucas\\AppData\\Local\\Temp\\ipykernel_8976\\438003708.py:21: FutureWarning: DataFrame.applymap has been deprecated. Use DataFrame.map instead.\n",
      "  size_df[cols_to_clean] = size_df[cols_to_clean].applymap(lambda x: re.sub(r'\\(.*?\\)', '', str(x)))\n"
     ]
    },
    {
     "ename": "IntCastingNaNError",
     "evalue": "Cannot convert non-finite values (NA or inf) to integer",
     "output_type": "error",
     "traceback": [
      "\u001b[1;31m---------------------------------------------------------------------------\u001b[0m",
      "\u001b[1;31mIntCastingNaNError\u001b[0m                        Traceback (most recent call last)",
      "Cell \u001b[1;32mIn[49], line 27\u001b[0m\n\u001b[0;32m     25\u001b[0m \u001b[38;5;66;03m# Convert the columns from strings to ints\u001b[39;00m\n\u001b[0;32m     26\u001b[0m size_df[cols_to_clean] \u001b[38;5;241m=\u001b[39m size_df[cols_to_clean]\u001b[38;5;241m.\u001b[39mastype(\u001b[38;5;28mfloat\u001b[39m)\n\u001b[1;32m---> 27\u001b[0m size_df[cols_to_clean] \u001b[38;5;241m=\u001b[39m \u001b[43msize_df\u001b[49m\u001b[43m[\u001b[49m\u001b[43mcols_to_clean\u001b[49m\u001b[43m]\u001b[49m\u001b[38;5;241;43m.\u001b[39;49m\u001b[43mastype\u001b[49m\u001b[43m(\u001b[49m\u001b[38;5;28;43mint\u001b[39;49m\u001b[43m)\u001b[49m\n\u001b[0;32m     29\u001b[0m \u001b[38;5;28mprint\u001b[39m(size_df)\n\u001b[0;32m     30\u001b[0m size_df\u001b[38;5;241m.\u001b[39mto_csv(\u001b[38;5;124m'\u001b[39m\u001b[38;5;124msize.csv\u001b[39m\u001b[38;5;124m'\u001b[39m, index\u001b[38;5;241m=\u001b[39m\u001b[38;5;28;01mFalse\u001b[39;00m)\n",
      "File \u001b[1;32m~\\AppData\\Local\\Packages\\PythonSoftwareFoundation.Python.3.11_qbz5n2kfra8p0\\LocalCache\\local-packages\\Python311\\site-packages\\pandas\\core\\generic.py:6637\u001b[0m, in \u001b[0;36mNDFrame.astype\u001b[1;34m(self, dtype, copy, errors)\u001b[0m\n\u001b[0;32m   6631\u001b[0m     results \u001b[38;5;241m=\u001b[39m [\n\u001b[0;32m   6632\u001b[0m         ser\u001b[38;5;241m.\u001b[39mastype(dtype, copy\u001b[38;5;241m=\u001b[39mcopy, errors\u001b[38;5;241m=\u001b[39merrors) \u001b[38;5;28;01mfor\u001b[39;00m _, ser \u001b[38;5;129;01min\u001b[39;00m \u001b[38;5;28mself\u001b[39m\u001b[38;5;241m.\u001b[39mitems()\n\u001b[0;32m   6633\u001b[0m     ]\n\u001b[0;32m   6635\u001b[0m \u001b[38;5;28;01melse\u001b[39;00m:\n\u001b[0;32m   6636\u001b[0m     \u001b[38;5;66;03m# else, only a single dtype is given\u001b[39;00m\n\u001b[1;32m-> 6637\u001b[0m     new_data \u001b[38;5;241m=\u001b[39m \u001b[38;5;28;43mself\u001b[39;49m\u001b[38;5;241;43m.\u001b[39;49m\u001b[43m_mgr\u001b[49m\u001b[38;5;241;43m.\u001b[39;49m\u001b[43mastype\u001b[49m\u001b[43m(\u001b[49m\u001b[43mdtype\u001b[49m\u001b[38;5;241;43m=\u001b[39;49m\u001b[43mdtype\u001b[49m\u001b[43m,\u001b[49m\u001b[43m \u001b[49m\u001b[43mcopy\u001b[49m\u001b[38;5;241;43m=\u001b[39;49m\u001b[43mcopy\u001b[49m\u001b[43m,\u001b[49m\u001b[43m \u001b[49m\u001b[43merrors\u001b[49m\u001b[38;5;241;43m=\u001b[39;49m\u001b[43merrors\u001b[49m\u001b[43m)\u001b[49m\n\u001b[0;32m   6638\u001b[0m     res \u001b[38;5;241m=\u001b[39m \u001b[38;5;28mself\u001b[39m\u001b[38;5;241m.\u001b[39m_constructor_from_mgr(new_data, axes\u001b[38;5;241m=\u001b[39mnew_data\u001b[38;5;241m.\u001b[39maxes)\n\u001b[0;32m   6639\u001b[0m     \u001b[38;5;28;01mreturn\u001b[39;00m res\u001b[38;5;241m.\u001b[39m__finalize__(\u001b[38;5;28mself\u001b[39m, method\u001b[38;5;241m=\u001b[39m\u001b[38;5;124m\"\u001b[39m\u001b[38;5;124mastype\u001b[39m\u001b[38;5;124m\"\u001b[39m)\n",
      "File \u001b[1;32m~\\AppData\\Local\\Packages\\PythonSoftwareFoundation.Python.3.11_qbz5n2kfra8p0\\LocalCache\\local-packages\\Python311\\site-packages\\pandas\\core\\internals\\managers.py:431\u001b[0m, in \u001b[0;36mBaseBlockManager.astype\u001b[1;34m(self, dtype, copy, errors)\u001b[0m\n\u001b[0;32m    428\u001b[0m \u001b[38;5;28;01melif\u001b[39;00m using_copy_on_write():\n\u001b[0;32m    429\u001b[0m     copy \u001b[38;5;241m=\u001b[39m \u001b[38;5;28;01mFalse\u001b[39;00m\n\u001b[1;32m--> 431\u001b[0m \u001b[38;5;28;01mreturn\u001b[39;00m \u001b[38;5;28;43mself\u001b[39;49m\u001b[38;5;241;43m.\u001b[39;49m\u001b[43mapply\u001b[49m\u001b[43m(\u001b[49m\n\u001b[0;32m    432\u001b[0m \u001b[43m    \u001b[49m\u001b[38;5;124;43m\"\u001b[39;49m\u001b[38;5;124;43mastype\u001b[39;49m\u001b[38;5;124;43m\"\u001b[39;49m\u001b[43m,\u001b[49m\n\u001b[0;32m    433\u001b[0m \u001b[43m    \u001b[49m\u001b[43mdtype\u001b[49m\u001b[38;5;241;43m=\u001b[39;49m\u001b[43mdtype\u001b[49m\u001b[43m,\u001b[49m\n\u001b[0;32m    434\u001b[0m \u001b[43m    \u001b[49m\u001b[43mcopy\u001b[49m\u001b[38;5;241;43m=\u001b[39;49m\u001b[43mcopy\u001b[49m\u001b[43m,\u001b[49m\n\u001b[0;32m    435\u001b[0m \u001b[43m    \u001b[49m\u001b[43merrors\u001b[49m\u001b[38;5;241;43m=\u001b[39;49m\u001b[43merrors\u001b[49m\u001b[43m,\u001b[49m\n\u001b[0;32m    436\u001b[0m \u001b[43m    \u001b[49m\u001b[43musing_cow\u001b[49m\u001b[38;5;241;43m=\u001b[39;49m\u001b[43musing_copy_on_write\u001b[49m\u001b[43m(\u001b[49m\u001b[43m)\u001b[49m\u001b[43m,\u001b[49m\n\u001b[0;32m    437\u001b[0m \u001b[43m\u001b[49m\u001b[43m)\u001b[49m\n",
      "File \u001b[1;32m~\\AppData\\Local\\Packages\\PythonSoftwareFoundation.Python.3.11_qbz5n2kfra8p0\\LocalCache\\local-packages\\Python311\\site-packages\\pandas\\core\\internals\\managers.py:364\u001b[0m, in \u001b[0;36mBaseBlockManager.apply\u001b[1;34m(self, f, align_keys, **kwargs)\u001b[0m\n\u001b[0;32m    362\u001b[0m         applied \u001b[38;5;241m=\u001b[39m b\u001b[38;5;241m.\u001b[39mapply(f, \u001b[38;5;241m*\u001b[39m\u001b[38;5;241m*\u001b[39mkwargs)\n\u001b[0;32m    363\u001b[0m     \u001b[38;5;28;01melse\u001b[39;00m:\n\u001b[1;32m--> 364\u001b[0m         applied \u001b[38;5;241m=\u001b[39m \u001b[38;5;28;43mgetattr\u001b[39;49m\u001b[43m(\u001b[49m\u001b[43mb\u001b[49m\u001b[43m,\u001b[49m\u001b[43m \u001b[49m\u001b[43mf\u001b[49m\u001b[43m)\u001b[49m\u001b[43m(\u001b[49m\u001b[38;5;241;43m*\u001b[39;49m\u001b[38;5;241;43m*\u001b[39;49m\u001b[43mkwargs\u001b[49m\u001b[43m)\u001b[49m\n\u001b[0;32m    365\u001b[0m     result_blocks \u001b[38;5;241m=\u001b[39m extend_blocks(applied, result_blocks)\n\u001b[0;32m    367\u001b[0m out \u001b[38;5;241m=\u001b[39m \u001b[38;5;28mtype\u001b[39m(\u001b[38;5;28mself\u001b[39m)\u001b[38;5;241m.\u001b[39mfrom_blocks(result_blocks, \u001b[38;5;28mself\u001b[39m\u001b[38;5;241m.\u001b[39maxes)\n",
      "File \u001b[1;32m~\\AppData\\Local\\Packages\\PythonSoftwareFoundation.Python.3.11_qbz5n2kfra8p0\\LocalCache\\local-packages\\Python311\\site-packages\\pandas\\core\\internals\\blocks.py:758\u001b[0m, in \u001b[0;36mBlock.astype\u001b[1;34m(self, dtype, copy, errors, using_cow, squeeze)\u001b[0m\n\u001b[0;32m    755\u001b[0m         \u001b[38;5;28;01mraise\u001b[39;00m \u001b[38;5;167;01mValueError\u001b[39;00m(\u001b[38;5;124m\"\u001b[39m\u001b[38;5;124mCan not squeeze with more than one column.\u001b[39m\u001b[38;5;124m\"\u001b[39m)\n\u001b[0;32m    756\u001b[0m     values \u001b[38;5;241m=\u001b[39m values[\u001b[38;5;241m0\u001b[39m, :]  \u001b[38;5;66;03m# type: ignore[call-overload]\u001b[39;00m\n\u001b[1;32m--> 758\u001b[0m new_values \u001b[38;5;241m=\u001b[39m \u001b[43mastype_array_safe\u001b[49m\u001b[43m(\u001b[49m\u001b[43mvalues\u001b[49m\u001b[43m,\u001b[49m\u001b[43m \u001b[49m\u001b[43mdtype\u001b[49m\u001b[43m,\u001b[49m\u001b[43m \u001b[49m\u001b[43mcopy\u001b[49m\u001b[38;5;241;43m=\u001b[39;49m\u001b[43mcopy\u001b[49m\u001b[43m,\u001b[49m\u001b[43m \u001b[49m\u001b[43merrors\u001b[49m\u001b[38;5;241;43m=\u001b[39;49m\u001b[43merrors\u001b[49m\u001b[43m)\u001b[49m\n\u001b[0;32m    760\u001b[0m new_values \u001b[38;5;241m=\u001b[39m maybe_coerce_values(new_values)\n\u001b[0;32m    762\u001b[0m refs \u001b[38;5;241m=\u001b[39m \u001b[38;5;28;01mNone\u001b[39;00m\n",
      "File \u001b[1;32m~\\AppData\\Local\\Packages\\PythonSoftwareFoundation.Python.3.11_qbz5n2kfra8p0\\LocalCache\\local-packages\\Python311\\site-packages\\pandas\\core\\dtypes\\astype.py:237\u001b[0m, in \u001b[0;36mastype_array_safe\u001b[1;34m(values, dtype, copy, errors)\u001b[0m\n\u001b[0;32m    234\u001b[0m     dtype \u001b[38;5;241m=\u001b[39m dtype\u001b[38;5;241m.\u001b[39mnumpy_dtype\n\u001b[0;32m    236\u001b[0m \u001b[38;5;28;01mtry\u001b[39;00m:\n\u001b[1;32m--> 237\u001b[0m     new_values \u001b[38;5;241m=\u001b[39m \u001b[43mastype_array\u001b[49m\u001b[43m(\u001b[49m\u001b[43mvalues\u001b[49m\u001b[43m,\u001b[49m\u001b[43m \u001b[49m\u001b[43mdtype\u001b[49m\u001b[43m,\u001b[49m\u001b[43m \u001b[49m\u001b[43mcopy\u001b[49m\u001b[38;5;241;43m=\u001b[39;49m\u001b[43mcopy\u001b[49m\u001b[43m)\u001b[49m\n\u001b[0;32m    238\u001b[0m \u001b[38;5;28;01mexcept\u001b[39;00m (\u001b[38;5;167;01mValueError\u001b[39;00m, \u001b[38;5;167;01mTypeError\u001b[39;00m):\n\u001b[0;32m    239\u001b[0m     \u001b[38;5;66;03m# e.g. _astype_nansafe can fail on object-dtype of strings\u001b[39;00m\n\u001b[0;32m    240\u001b[0m     \u001b[38;5;66;03m#  trying to convert to float\u001b[39;00m\n\u001b[0;32m    241\u001b[0m     \u001b[38;5;28;01mif\u001b[39;00m errors \u001b[38;5;241m==\u001b[39m \u001b[38;5;124m\"\u001b[39m\u001b[38;5;124mignore\u001b[39m\u001b[38;5;124m\"\u001b[39m:\n",
      "File \u001b[1;32m~\\AppData\\Local\\Packages\\PythonSoftwareFoundation.Python.3.11_qbz5n2kfra8p0\\LocalCache\\local-packages\\Python311\\site-packages\\pandas\\core\\dtypes\\astype.py:182\u001b[0m, in \u001b[0;36mastype_array\u001b[1;34m(values, dtype, copy)\u001b[0m\n\u001b[0;32m    179\u001b[0m     values \u001b[38;5;241m=\u001b[39m values\u001b[38;5;241m.\u001b[39mastype(dtype, copy\u001b[38;5;241m=\u001b[39mcopy)\n\u001b[0;32m    181\u001b[0m \u001b[38;5;28;01melse\u001b[39;00m:\n\u001b[1;32m--> 182\u001b[0m     values \u001b[38;5;241m=\u001b[39m \u001b[43m_astype_nansafe\u001b[49m\u001b[43m(\u001b[49m\u001b[43mvalues\u001b[49m\u001b[43m,\u001b[49m\u001b[43m \u001b[49m\u001b[43mdtype\u001b[49m\u001b[43m,\u001b[49m\u001b[43m \u001b[49m\u001b[43mcopy\u001b[49m\u001b[38;5;241;43m=\u001b[39;49m\u001b[43mcopy\u001b[49m\u001b[43m)\u001b[49m\n\u001b[0;32m    184\u001b[0m \u001b[38;5;66;03m# in pandas we don't store numpy str dtypes, so convert to object\u001b[39;00m\n\u001b[0;32m    185\u001b[0m \u001b[38;5;28;01mif\u001b[39;00m \u001b[38;5;28misinstance\u001b[39m(dtype, np\u001b[38;5;241m.\u001b[39mdtype) \u001b[38;5;129;01mand\u001b[39;00m \u001b[38;5;28missubclass\u001b[39m(values\u001b[38;5;241m.\u001b[39mdtype\u001b[38;5;241m.\u001b[39mtype, \u001b[38;5;28mstr\u001b[39m):\n",
      "File \u001b[1;32m~\\AppData\\Local\\Packages\\PythonSoftwareFoundation.Python.3.11_qbz5n2kfra8p0\\LocalCache\\local-packages\\Python311\\site-packages\\pandas\\core\\dtypes\\astype.py:101\u001b[0m, in \u001b[0;36m_astype_nansafe\u001b[1;34m(arr, dtype, copy, skipna)\u001b[0m\n\u001b[0;32m     96\u001b[0m     \u001b[38;5;28;01mreturn\u001b[39;00m lib\u001b[38;5;241m.\u001b[39mensure_string_array(\n\u001b[0;32m     97\u001b[0m         arr, skipna\u001b[38;5;241m=\u001b[39mskipna, convert_na_value\u001b[38;5;241m=\u001b[39m\u001b[38;5;28;01mFalse\u001b[39;00m\n\u001b[0;32m     98\u001b[0m     )\u001b[38;5;241m.\u001b[39mreshape(shape)\n\u001b[0;32m    100\u001b[0m \u001b[38;5;28;01melif\u001b[39;00m np\u001b[38;5;241m.\u001b[39missubdtype(arr\u001b[38;5;241m.\u001b[39mdtype, np\u001b[38;5;241m.\u001b[39mfloating) \u001b[38;5;129;01mand\u001b[39;00m dtype\u001b[38;5;241m.\u001b[39mkind \u001b[38;5;129;01min\u001b[39;00m \u001b[38;5;124m\"\u001b[39m\u001b[38;5;124miu\u001b[39m\u001b[38;5;124m\"\u001b[39m:\n\u001b[1;32m--> 101\u001b[0m     \u001b[38;5;28;01mreturn\u001b[39;00m \u001b[43m_astype_float_to_int_nansafe\u001b[49m\u001b[43m(\u001b[49m\u001b[43marr\u001b[49m\u001b[43m,\u001b[49m\u001b[43m \u001b[49m\u001b[43mdtype\u001b[49m\u001b[43m,\u001b[49m\u001b[43m \u001b[49m\u001b[43mcopy\u001b[49m\u001b[43m)\u001b[49m\n\u001b[0;32m    103\u001b[0m \u001b[38;5;28;01melif\u001b[39;00m arr\u001b[38;5;241m.\u001b[39mdtype \u001b[38;5;241m==\u001b[39m \u001b[38;5;28mobject\u001b[39m:\n\u001b[0;32m    104\u001b[0m     \u001b[38;5;66;03m# if we have a datetime/timedelta array of objects\u001b[39;00m\n\u001b[0;32m    105\u001b[0m     \u001b[38;5;66;03m# then coerce to datetime64[ns] and use DatetimeArray.astype\u001b[39;00m\n\u001b[0;32m    107\u001b[0m     \u001b[38;5;28;01mif\u001b[39;00m lib\u001b[38;5;241m.\u001b[39mis_np_dtype(dtype, \u001b[38;5;124m\"\u001b[39m\u001b[38;5;124mM\u001b[39m\u001b[38;5;124m\"\u001b[39m):\n",
      "File \u001b[1;32m~\\AppData\\Local\\Packages\\PythonSoftwareFoundation.Python.3.11_qbz5n2kfra8p0\\LocalCache\\local-packages\\Python311\\site-packages\\pandas\\core\\dtypes\\astype.py:145\u001b[0m, in \u001b[0;36m_astype_float_to_int_nansafe\u001b[1;34m(values, dtype, copy)\u001b[0m\n\u001b[0;32m    141\u001b[0m \u001b[38;5;250m\u001b[39m\u001b[38;5;124;03m\"\"\"\u001b[39;00m\n\u001b[0;32m    142\u001b[0m \u001b[38;5;124;03mastype with a check preventing converting NaN to an meaningless integer value.\u001b[39;00m\n\u001b[0;32m    143\u001b[0m \u001b[38;5;124;03m\"\"\"\u001b[39;00m\n\u001b[0;32m    144\u001b[0m \u001b[38;5;28;01mif\u001b[39;00m \u001b[38;5;129;01mnot\u001b[39;00m np\u001b[38;5;241m.\u001b[39misfinite(values)\u001b[38;5;241m.\u001b[39mall():\n\u001b[1;32m--> 145\u001b[0m     \u001b[38;5;28;01mraise\u001b[39;00m IntCastingNaNError(\n\u001b[0;32m    146\u001b[0m         \u001b[38;5;124m\"\u001b[39m\u001b[38;5;124mCannot convert non-finite values (NA or inf) to integer\u001b[39m\u001b[38;5;124m\"\u001b[39m\n\u001b[0;32m    147\u001b[0m     )\n\u001b[0;32m    148\u001b[0m \u001b[38;5;28;01mif\u001b[39;00m dtype\u001b[38;5;241m.\u001b[39mkind \u001b[38;5;241m==\u001b[39m \u001b[38;5;124m\"\u001b[39m\u001b[38;5;124mu\u001b[39m\u001b[38;5;124m\"\u001b[39m:\n\u001b[0;32m    149\u001b[0m     \u001b[38;5;66;03m# GH#45151\u001b[39;00m\n\u001b[0;32m    150\u001b[0m     \u001b[38;5;28;01mif\u001b[39;00m \u001b[38;5;129;01mnot\u001b[39;00m (values \u001b[38;5;241m>\u001b[39m\u001b[38;5;241m=\u001b[39m \u001b[38;5;241m0\u001b[39m)\u001b[38;5;241m.\u001b[39mall():\n",
      "\u001b[1;31mIntCastingNaNError\u001b[0m: Cannot convert non-finite values (NA or inf) to integer"
     ]
    }
   ],
   "source": [
    "size = \"List_of_countries_and_dependencies_by_area\" # World Country Size Sub-URL\n",
    "\n",
    "tables = pd.read_html(wikipedia + size)\n",
    "\n",
    "size_df = tables[1]  # Index of the size data table\n",
    "\n",
    "# Loop through each cell and remove brackets and their inner characters\n",
    "for col in size_df.columns:\n",
    "    size_df[col] = size_df[col].apply(lambda x: re.sub(r'\\[.*?\\]', '', str(x)))\n",
    "\n",
    "# Drop unnecessary columns\n",
    "size_df = size_df.drop(columns=['Unnamed: 0', 'Unnamed: 6', '% water'])\n",
    "\n",
    "# Rename Columns\n",
    "size_df = size_df.rename(columns={'Country / dependency': 'Country', 'Total in km2 (mi2)':'Total in km^2', 'Land in km2 (mi2)': 'Land in km^2', 'Water in km2 (mi2)': 'Water in km^2'})\n",
    "\n",
    "# Loop through each cell in the specified columns and remove parentheses and their inner characters\n",
    "cols_to_clean = ['Total in km^2', 'Land in km^2', 'Water in km^2']\n",
    "size_df[cols_to_clean] = size_df[cols_to_clean].applymap(lambda x: re.sub(r'\\(.*?\\)', '', str(x)))\n",
    "\n",
    "# Loop through each cell and remove commas and spaces (Prep for Float Conversion)\n",
    "size_df[cols_to_clean] = size_df[cols_to_clean].applymap(lambda x: str(x).replace(' ', ''))\n",
    "size_df[cols_to_clean] = size_df[cols_to_clean].applymap(lambda x: str(x).replace(',', ''))\n",
    "\n",
    "# Convert the columns from strings to floats\n",
    "size_df[cols_to_clean] = size_df[cols_to_clean].astype(float)\n",
    "\n",
    "print(size_df)\n",
    "size_df.to_csv('size.csv', index=False)"
   ]
  }
 ],
 "metadata": {
  "kernelspec": {
   "display_name": "Python 3",
   "language": "python",
   "name": "python3"
  },
  "language_info": {
   "codemirror_mode": {
    "name": "ipython",
    "version": 3
   },
   "file_extension": ".py",
   "mimetype": "text/x-python",
   "name": "python",
   "nbconvert_exporter": "python",
   "pygments_lexer": "ipython3",
   "version": "3.11.8"
  }
 },
 "nbformat": 4,
 "nbformat_minor": 2
}
