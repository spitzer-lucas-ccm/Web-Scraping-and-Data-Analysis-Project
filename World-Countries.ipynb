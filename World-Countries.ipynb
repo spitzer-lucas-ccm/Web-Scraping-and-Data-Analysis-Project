{
 "cells": [
  {
   "cell_type": "markdown",
   "metadata": {},
   "source": [
    "# Scraping Wikipedia for World Coutnry Data"
   ]
  },
  {
   "cell_type": "code",
   "execution_count": 11,
   "metadata": {},
   "outputs": [],
   "source": [
    "# Importing Cleaning Packages\n",
    "import re\n",
    "import pandas as pd\n",
    "import numpy as np\n",
    "\n",
    "# Importing Data Viz Packages\n",
    "import seaborn as sns\n",
    "import matplotlib.pyplot as plt"
   ]
  },
  {
   "cell_type": "markdown",
   "metadata": {},
   "source": [
    "### Capturing World Population Data by Country"
   ]
  },
  {
   "cell_type": "code",
   "execution_count": 7,
   "metadata": {},
   "outputs": [
    {
     "name": "stdout",
     "output_type": "stream",
     "text": [
      "                                 Country  Population % of World Population\n",
      "0                                  World  8098329000                  100%\n",
      "1                                  China  1409670000                 17.4%\n",
      "2                                  India  1392329000                 17.2%\n",
      "3                          United States   335893238                  4.1%\n",
      "4                              Indonesia   279118866                  3.4%\n",
      "..                                   ...         ...                   ...\n",
      "236                                 Niue        1689                    0%\n",
      "237                         Tokelau (NZ)        1647                    0%\n",
      "238                         Vatican City         764                    0%\n",
      "239  Cocos (Keeling) Islands (Australia)         593                    0%\n",
      "240                Pitcairn Islands (UK)          47                    0%\n",
      "\n",
      "[241 rows x 3 columns]\n"
     ]
    }
   ],
   "source": [
    "wikipedia = \"https://en.wikipedia.org/wiki/\" # Wikipedia Root URL\n",
    "population = \"List_of_countries_and_dependencies_by_population\" # World Population Sub-URL\n",
    "\n",
    "tables = pd.read_html(wikipedia + population)\n",
    "\n",
    "population_df = tables[0]  # Index of the population data table\n",
    "\n",
    "# Loop through each cell and remove brackets and their inner characters\n",
    "for col in population_df.columns:\n",
    "    population_df[col] = population_df[col].apply(lambda x: re.sub(r'\\[.*?\\]', '', str(x)))\n",
    "\n",
    "# Drop the columns\n",
    "population_df = population_df.drop(columns=['Unnamed: 0', 'Unnamed: 6'])\n",
    "\n",
    "# Dropping unnecessary columns\n",
    "population_df = population_df.drop(columns=['Date', 'Source (official or from the United Nations)'])\n",
    "\n",
    "# Rename Columns\n",
    "population_df = population_df.rename(columns={'% of world': '% of World Population'})\n",
    "\n",
    "# Rename Columns\n",
    "population_df = population_df.rename(columns={'Location': 'Country'})\n",
    "\n",
    "# Display DataFrame\n",
    "print(population_df)\n",
    "\n",
    "# Save DataFrame to CSV\n",
    "population_df.to_csv('population.csv', index=False)"
   ]
  },
  {
   "cell_type": "markdown",
   "metadata": {},
   "source": [
    "### Capturing World Nominal GDP Data by Country"
   ]
  },
  {
   "cell_type": "code",
   "execution_count": 3,
   "metadata": {},
   "outputs": [
    {
     "name": "stdout",
     "output_type": "stream",
     "text": [
      "           Country    Region IMF Nominal Forecast (millions)\n",
      "0            World       N/A                       104476432\n",
      "1    United States  Americas                        26949643\n",
      "2            China      Asia                        17700899\n",
      "3          Germany    Europe                         4429838\n",
      "4            Japan      Asia                         4230862\n",
      "..             ...       ...                             ...\n",
      "208          Palau   Oceania                             267\n",
      "209       Kiribati   Oceania                             246\n",
      "210          Nauru   Oceania                             150\n",
      "211     Montserrat  Americas                               —\n",
      "212         Tuvalu   Oceania                              63\n",
      "\n",
      "[213 rows x 3 columns]\n"
     ]
    },
    {
     "name": "stderr",
     "output_type": "stream",
     "text": [
      "C:\\Users\\Lucas\\AppData\\Local\\Temp\\ipykernel_21952\\1308471831.py:12: PerformanceWarning: dropping on a non-lexsorted multi-index without a level parameter may impact performance.\n",
      "  nominal_df = nominal_df.drop(columns=['World Bank[14]', 'United Nations[15]'])\n"
     ]
    }
   ],
   "source": [
    "nominal = \"List_of_countries_by_GDP_(nominal)\" # World GDP Nominal Sub-URL\n",
    "\n",
    "tables = pd.read_html(wikipedia + nominal)\n",
    "\n",
    "nominal_df = tables[2]  # Index of the nominal GDP data table\n",
    "\n",
    "# Loop through each cell and remove brackets and their inner characters\n",
    "for col in nominal_df.columns:\n",
    "    nominal_df[col] = nominal_df[col].apply(lambda x: re.sub(r'\\[.*?\\]', '', str(x)))\n",
    "\n",
    "# Drop unnecessary columns (Only Using IMF Data)\n",
    "nominal_df = nominal_df.drop(columns=['World Bank[14]', 'United Nations[15]'])\n",
    "\n",
    "# Remove the first level of the MultiIndex for columns\n",
    "nominal_df.columns = nominal_df.columns.droplevel(0)\n",
    "\n",
    "# Drop year column now that level has been reduced\n",
    "nominal_df = nominal_df.drop(columns=['Year'])\n",
    "\n",
    "# Rename Columns\n",
    "nominal_df = nominal_df.rename(columns={'Country/Territory': 'Country', 'UN region': 'Region', 'Forecast':'IMF Nominal Forecast (millions)'})\n",
    "\n",
    "# Replace World Region With String \"N/A\"\n",
    "nominal_df.loc[0, 'Region'] = \"N/A\"\n",
    "\n",
    "# Display DataFrame\n",
    "print(nominal_df)\n",
    "\n",
    "# Save DataFrame to CSV\n",
    "nominal_df.to_csv('nominal.csv', index=False)"
   ]
  },
  {
   "cell_type": "markdown",
   "metadata": {},
   "source": [
    "### Capturing World PPP GDP Data by Country"
   ]
  },
  {
   "cell_type": "code",
   "execution_count": 4,
   "metadata": {},
   "outputs": [
    {
     "name": "stdout",
     "output_type": "stream",
     "text": [
      "Index(['Country (or territory)', 'UN region', 'Forecast', 'Year'], dtype='object')\n",
      "                                          Country IMF PPP Forecast (millions)\n",
      "0                                           World                   183950000\n",
      "1                                           China                    35042689\n",
      "2                                   United States                    27966553\n",
      "3                                           India                    14261176\n",
      "4                                           Japan                     6710984\n",
      "..                                            ...                         ...\n",
      "224                                        Tuvalu                          63\n",
      "225                             Wallis and Futuna                           —\n",
      "226  Saint Helena, Ascension and Tristan da Cunha                           —\n",
      "227                                          Niue                           —\n",
      "228                                       Tokelau                           —\n",
      "\n",
      "[229 rows x 2 columns]\n"
     ]
    },
    {
     "name": "stderr",
     "output_type": "stream",
     "text": [
      "C:\\Users\\Lucas\\AppData\\Local\\Temp\\ipykernel_21952\\4242018340.py:12: PerformanceWarning: dropping on a non-lexsorted multi-index without a level parameter may impact performance.\n",
      "  ppp_df = ppp_df.drop(columns=['World Bank[6]', 'CIA[7][8][9]'])\n"
     ]
    }
   ],
   "source": [
    "ppp = \"List_of_countries_by_GDP_(PPP)\" # World GDP PPP Sub-URL\n",
    "\n",
    "tables = pd.read_html(wikipedia + ppp)\n",
    "\n",
    "ppp_df = tables[1]  # Index of the PPP GDP data table\n",
    "\n",
    "# Loop through each cell and remove brackets and their inner characters\n",
    "for col in ppp_df.columns:\n",
    "    ppp_df[col] = ppp_df[col].apply(lambda x: re.sub(r'\\[.*?\\]', '', str(x)))\n",
    "\n",
    "# Drop unnecessary columns (Only Using IMF Data)\n",
    "ppp_df = ppp_df.drop(columns=['World Bank[6]', 'CIA[7][8][9]'])\n",
    "\n",
    "# Remove the first level of the MultiIndex for columns\n",
    "ppp_df.columns = ppp_df.columns.droplevel(0)\n",
    "\n",
    "\n",
    "print(ppp_df.columns)\n",
    "# Drop year column now that level has been reduced\n",
    "ppp_df = ppp_df.drop(columns=['Year', 'UN region'])\n",
    "\n",
    "# Rename Columns\n",
    "ppp_df = ppp_df.rename(columns={'Country (or territory)': 'Country', 'Forecast':'IMF PPP Forecast (millions)'})\n",
    "\n",
    "# Display DataFrame\n",
    "print(ppp_df)\n",
    "\n",
    "# Save DataFrame to CSV\n",
    "ppp_df.to_csv('ppp.csv', index=False)"
   ]
  },
  {
   "cell_type": "markdown",
   "metadata": {},
   "source": [
    "### Capturing World Size Data by Country"
   ]
  },
  {
   "cell_type": "code",
   "execution_count": 5,
   "metadata": {},
   "outputs": [
    {
     "name": "stdout",
     "output_type": "stream",
     "text": [
      "                                     Country  Total in km^2  Land in km^2  \\\n",
      "0                                      Earth   5.100720e+08  1.489400e+08   \n",
      "1                                     Russia   1.709825e+07  1.637687e+07   \n",
      "2                                 Antarctica   1.420000e+07  1.420000e+07   \n",
      "3                                     Canada   9.984670e+06  9.093507e+06   \n",
      "4                                      China   9.596960e+06  9.326410e+06   \n",
      "..                                       ...            ...           ...   \n",
      "259  Ashmore and Cartier Islands (Australia)   5.000000e+00  5.000000e+00   \n",
      "260            Coral Sea Islands (Australia)   3.000000e+00  3.000000e+00   \n",
      "261               Spratly Islands (disputed)   2.000000e+00  2.000000e+00   \n",
      "262                                   Monaco   2.000000e+00  2.000000e+00   \n",
      "263                             Vatican City   4.900000e-01  4.900000e-01   \n",
      "\n",
      "     Water in km^2  \n",
      "0      361132000.0  \n",
      "1         721380.0  \n",
      "2              0.0  \n",
      "3         891163.0  \n",
      "4         270550.0  \n",
      "..             ...  \n",
      "259            0.0  \n",
      "260            0.0  \n",
      "261            0.0  \n",
      "262            0.0  \n",
      "263            0.0  \n",
      "\n",
      "[264 rows x 4 columns]\n"
     ]
    },
    {
     "name": "stderr",
     "output_type": "stream",
     "text": [
      "C:\\Users\\Lucas\\AppData\\Local\\Temp\\ipykernel_21952\\1657392653.py:19: FutureWarning: DataFrame.applymap has been deprecated. Use DataFrame.map instead.\n",
      "  size_df[cols_to_clean] = size_df[cols_to_clean].applymap(lambda x: re.sub(r'\\(.*?\\)', '', str(x)))\n",
      "C:\\Users\\Lucas\\AppData\\Local\\Temp\\ipykernel_21952\\1657392653.py:22: FutureWarning: DataFrame.applymap has been deprecated. Use DataFrame.map instead.\n",
      "  size_df[cols_to_clean] = size_df[cols_to_clean].applymap(lambda x: str(x).replace(' ', ''))\n",
      "C:\\Users\\Lucas\\AppData\\Local\\Temp\\ipykernel_21952\\1657392653.py:23: FutureWarning: DataFrame.applymap has been deprecated. Use DataFrame.map instead.\n",
      "  size_df[cols_to_clean] = size_df[cols_to_clean].applymap(lambda x: str(x).replace(',', ''))\n"
     ]
    }
   ],
   "source": [
    "size = \"List_of_countries_and_dependencies_by_area\" # World Country Size Sub-URL\n",
    "\n",
    "tables = pd.read_html(wikipedia + size)\n",
    "\n",
    "size_df = tables[1]  # Index of the size data table\n",
    "\n",
    "# Loop through each cell and remove brackets and their inner characters\n",
    "for col in size_df.columns:\n",
    "    size_df[col] = size_df[col].apply(lambda x: re.sub(r'\\[.*?\\]', '', str(x)))\n",
    "\n",
    "# Drop unnecessary columns\n",
    "size_df = size_df.drop(columns=['Unnamed: 0', 'Unnamed: 6', '% water'])\n",
    "\n",
    "# Rename Columns\n",
    "size_df = size_df.rename(columns={'Country / dependency': 'Country', 'Total in km2 (mi2)':'Total in km^2', 'Land in km2 (mi2)': 'Land in km^2', 'Water in km2 (mi2)': 'Water in km^2'})\n",
    "\n",
    "# Loop through each cell in the specified columns and remove parentheses and their inner characters\n",
    "cols_to_clean = ['Total in km^2', 'Land in km^2', 'Water in km^2']\n",
    "size_df[cols_to_clean] = size_df[cols_to_clean].applymap(lambda x: re.sub(r'\\(.*?\\)', '', str(x)))\n",
    "\n",
    "# Loop through each cell and remove commas and spaces (Prep for Float Conversion)\n",
    "size_df[cols_to_clean] = size_df[cols_to_clean].applymap(lambda x: str(x).replace(' ', ''))\n",
    "size_df[cols_to_clean] = size_df[cols_to_clean].applymap(lambda x: str(x).replace(',', ''))\n",
    "\n",
    "# Convert the columns from strings to floats\n",
    "size_df[cols_to_clean] = size_df[cols_to_clean].astype(float)\n",
    "\n",
    "# Display DataFrame\n",
    "print(size_df)\n",
    "\n",
    "# Save DataFrame to CSV\n",
    "size_df.to_csv('size.csv', index=False)"
   ]
  },
  {
   "cell_type": "markdown",
   "metadata": {},
   "source": [
    "### Merge & Clean DataFrames into a Single DataFrame / CSV File "
   ]
  },
  {
   "cell_type": "code",
   "execution_count": 12,
   "metadata": {},
   "outputs": [
    {
     "name": "stdout",
     "output_type": "stream",
     "text": [
      "                 Country Population % of World Population    Region  \\\n",
      "4                Albania    2761785                 0.03%    Europe   \n",
      "5                Algeria   45400000                  0.6%    Africa   \n",
      "8                Andorra      85101                0.001%    Europe   \n",
      "9                 Angola   34094077                  0.4%    Africa   \n",
      "13   Antigua and Barbuda     100772                0.001%  Americas   \n",
      "..                   ...        ...                   ...       ...   \n",
      "292            Venezuela   28302000                  0.3%  Americas   \n",
      "293              Vietnam  100300000                  1.2%      Asia   \n",
      "298                Yemen   31888698                  0.4%      Asia   \n",
      "299               Zambia   19610769                  0.2%    Africa   \n",
      "301             Zimbabwe   15178979                  0.2%    Africa   \n",
      "\n",
      "    IMF Nominal Forecast (millions) IMF PPP Forecast (millions)  \\\n",
      "4                             23032                       55928   \n",
      "5                            224107                      628990   \n",
      "8                              3692                        5711   \n",
      "9                             93796                      260323   \n",
      "13                             1949                        2601   \n",
      "..                              ...                         ...   \n",
      "292                           92210                      211926   \n",
      "293                          433356                     1551770   \n",
      "298                           21045                       69963   \n",
      "299                           29536                       83687   \n",
      "301                           32424                       44448   \n",
      "\n",
      "     Total in km^2  Land in km^2  Water in km^2  \n",
      "4          28748.0       27400.0          330.0  \n",
      "5        2381741.0     2381741.0            0.0  \n",
      "8            468.0         468.0            0.0  \n",
      "9        1246700.0     1246700.0            0.0  \n",
      "13           442.0         442.0            0.0  \n",
      "..             ...           ...            ...  \n",
      "292       912050.0      882050.0        30000.0  \n",
      "293       331340.0      313429.0        17801.0  \n",
      "298       527968.0      527968.0            0.0  \n",
      "299       752612.0      743390.0         9220.0  \n",
      "301       390757.0      386850.0         3910.0  \n",
      "\n",
      "[184 rows x 9 columns]\n"
     ]
    }
   ],
   "source": [
    "# Merge World DataFrames using Primary Key: 'Country'\n",
    "country_df = population_df.merge(nominal_df, on='Country', how='outer')\n",
    "country_df = country_df.merge(ppp_df, on='Country', how='outer')\n",
    "country_df = country_df.merge(size_df, on='Country', how='outer')\n",
    "\n",
    "# Remove all observations with empty & NaN values\n",
    "country_df = country_df.replace('—', np.nan)\n",
    "country_df = country_df.dropna()\n",
    "\n",
    "# Display DataFrame\n",
    "print(country_df)\n",
    "\n",
    "# Save DataFrame to CSV\n",
    "country_df.to_csv('country.csv', index=False)\n",
    "\n"
   ]
  }
 ],
 "metadata": {
  "kernelspec": {
   "display_name": "Python 3",
   "language": "python",
   "name": "python3"
  },
  "language_info": {
   "codemirror_mode": {
    "name": "ipython",
    "version": 3
   },
   "file_extension": ".py",
   "mimetype": "text/x-python",
   "name": "python",
   "nbconvert_exporter": "python",
   "pygments_lexer": "ipython3",
   "version": "3.11.8"
  }
 },
 "nbformat": 4,
 "nbformat_minor": 2
}
