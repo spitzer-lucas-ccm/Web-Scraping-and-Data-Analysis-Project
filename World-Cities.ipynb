{
 "cells": [
  {
   "cell_type": "markdown",
   "metadata": {},
   "source": [
    "# Scraping Wikipedia for Country Data"
   ]
  },
  {
   "cell_type": "code",
   "execution_count": 1,
   "metadata": {},
   "outputs": [
    {
     "name": "stderr",
     "output_type": "stream",
     "text": [
      "C:\\Users\\Lucas\\AppData\\Local\\Temp\\ipykernel_26560\\924478311.py:5: DeprecationWarning: \n",
      "Pyarrow will become a required dependency of pandas in the next major release of pandas (pandas 3.0),\n",
      "(to allow more performant data types, such as the Arrow string type, and better interoperability with other libraries)\n",
      "but was not found to be installed on your system.\n",
      "If this would cause problems for you,\n",
      "please provide us feedback at https://github.com/pandas-dev/pandas/issues/54466\n",
      "        \n",
      "  import pandas as pd\n"
     ]
    }
   ],
   "source": [
    "# Importing Essential Packages\n",
    "import requests\n",
    "import re\n",
    "from bs4 import BeautifulSoup, Comment\n",
    "import pandas as pd"
   ]
  },
  {
   "cell_type": "markdown",
   "metadata": {},
   "source": [
    "### Capture Wikpedia World Cities Data"
   ]
  },
  {
   "cell_type": "code",
   "execution_count": 2,
   "metadata": {},
   "outputs": [
    {
     "name": "stderr",
     "output_type": "stream",
     "text": [
      "C:\\Users\\Lucas\\AppData\\Local\\Temp\\ipykernel_26560\\221942048.py:12: PerformanceWarning: dropping on a non-lexsorted multi-index without a level parameter may impact performance.\n",
      "  cities_df = cities_df.drop(columns=['Urban area[8]', 'Metropolitan area[d]']) # Drop unnecessary columns\n"
     ]
    }
   ],
   "source": [
    "wikipedia = \"https://en.wikipedia.org/wiki/\" # Wikipedia Root URL\n",
    "cities = \"List_of_largest_cities\" # World Cities Sub-URL\n",
    "\n",
    "tables = pd.read_html(wikipedia + cities)\n",
    "\n",
    "cities_df = tables[3]  # Index of the cities data table\n",
    "\n",
    "# Loop through each cell and remove brackets and their inner characters\n",
    "for col in cities_df.columns:\n",
    "    cities_df[col] = cities_df[col].apply(lambda x: re.sub(r'\\[.*?\\]', '', str(x)))\n",
    "\n",
    "cities_df = cities_df.drop(columns=['Urban area[8]', 'Metropolitan area[d]']) # Drop unnecessary columns"
   ]
  },
  {
   "cell_type": "markdown",
   "metadata": {},
   "source": [
    "### Resolve Double Header Problem & Clean Density Column"
   ]
  },
  {
   "cell_type": "code",
   "execution_count": 3,
   "metadata": {},
   "outputs": [],
   "source": [
    "# Remove the first level of the MultiIndex for columns\n",
    "cities_df.columns = cities_df.columns.droplevel(0)\n",
    "\n",
    "# Remove non-numeric characters\n",
    "cities_df['Density (/km2)'] = cities_df['Density (/km2)'].str.replace(',', '').str.replace(' ', '').str.replace('—', '')\n",
    "\n",
    "# Remove empty rows\n",
    "cities_df = cities_df[cities_df['Density (/km2)'].str.strip().astype(bool)]\n",
    "\n",
    "# Convert the column to int\n",
    "cities_df['Density (/km2)'] = cities_df['Density (/km2)'].astype(int)"
   ]
  },
  {
   "cell_type": "markdown",
   "metadata": {},
   "source": [
    "### Clean Headers"
   ]
  },
  {
   "cell_type": "code",
   "execution_count": 4,
   "metadata": {},
   "outputs": [],
   "source": [
    "# Function to replace anything within brackets with nothing\n",
    "def remove_brackets(text):\n",
    "    return text.split('[')[0].strip()\n",
    "\n",
    "# Replace headers using list comprehension\n",
    "cities_df.columns = [remove_brackets(col) for col in cities_df.columns]\n",
    "\n",
    "# Function to replace anything within brackets with nothing and replace 'km2' with 'km^2'\n",
    "def clean_header(header):\n",
    "    header = header.split('[')[0].strip()  # Remove anything within brackets\n",
    "    return header.replace('km2', 'km^2')   # Replace 'km2' with 'km^2'\n",
    "\n",
    "# Replace headers using list comprehension\n",
    "cities_df.columns = [clean_header(col) for col in cities_df.columns]"
   ]
  },
  {
   "cell_type": "markdown",
   "metadata": {},
   "source": [
    "### Display & Save to CSV"
   ]
  },
  {
   "cell_type": "code",
   "execution_count": 5,
   "metadata": {},
   "outputs": [
    {
     "name": "stdout",
     "output_type": "stream",
     "text": [
      "           City        Country UN 2018 population estimates  \\\n",
      "0         Tokyo          Japan                     37468000   \n",
      "1         Delhi          India                     28514000   \n",
      "2      Shanghai          China                     25582000   \n",
      "3     São Paulo         Brazil                     21650000   \n",
      "4   Mexico City         Mexico                     21581000   \n",
      "..          ...            ...                          ...   \n",
      "75       Dalian          China                      5300000   \n",
      "76   Washington  United States                      5207000   \n",
      "78   Alexandria          Egypt                      5086000   \n",
      "79        Jinan          China                      5052000   \n",
      "80  Guadalajara         Mexico                      5023000   \n",
      "\n",
      "               Definition Population Area (km^2)  Density (/km^2)  \n",
      "0   Metropolis prefecture   13515271        2191             6169  \n",
      "1   Municipal corporation   16753235        1484            11289  \n",
      "2            Municipality   24870895        6341             3922  \n",
      "3            Municipality   12252023        1521             8055  \n",
      "4              City-state    9209944        1485             6202  \n",
      "..                    ...        ...         ...              ...  \n",
      "75  City (sub-provincial)    7450785       13742              542  \n",
      "76       Federal district     702455         177             3969  \n",
      "78      Urban governorate    5441866        2300             2366  \n",
      "79  City (sub-provincial)    9202432       10244              898  \n",
      "80           Municipality    1385621         151             9176  \n",
      "\n",
      "[78 rows x 7 columns]\n"
     ]
    }
   ],
   "source": [
    "# Display DataFrame\n",
    "print(cities_df)\n",
    "\n",
    "# Save the DataFrame to a CSV file\n",
    "cities_df.to_csv('cities.csv', index=False)"
   ]
  },
  {
   "cell_type": "markdown",
   "metadata": {},
   "source": [
    "### Question 1: Which countiees have the most number of large cities?"
   ]
  }
 ],
 "metadata": {
  "kernelspec": {
   "display_name": "Python 3",
   "language": "python",
   "name": "python3"
  },
  "language_info": {
   "codemirror_mode": {
    "name": "ipython",
    "version": 3
   },
   "file_extension": ".py",
   "mimetype": "text/x-python",
   "name": "python",
   "nbconvert_exporter": "python",
   "pygments_lexer": "ipython3",
   "version": "3.11.8"
  }
 },
 "nbformat": 4,
 "nbformat_minor": 2
}
