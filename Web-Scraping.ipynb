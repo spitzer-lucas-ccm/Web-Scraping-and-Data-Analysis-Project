{
 "cells": [
  {
   "cell_type": "markdown",
   "metadata": {},
   "source": [
    "# Scraping Wikipedia for Country Data"
   ]
  },
  {
   "cell_type": "code",
   "execution_count": 1,
   "metadata": {},
   "outputs": [
    {
     "name": "stderr",
     "output_type": "stream",
     "text": [
      "C:\\Users\\Lucas\\AppData\\Local\\Temp\\ipykernel_27504\\924478311.py:5: DeprecationWarning: \n",
      "Pyarrow will become a required dependency of pandas in the next major release of pandas (pandas 3.0),\n",
      "(to allow more performant data types, such as the Arrow string type, and better interoperability with other libraries)\n",
      "but was not found to be installed on your system.\n",
      "If this would cause problems for you,\n",
      "please provide us feedback at https://github.com/pandas-dev/pandas/issues/54466\n",
      "        \n",
      "  import pandas as pd\n"
     ]
    }
   ],
   "source": [
    "# Importing Essential Packages\n",
    "import requests\n",
    "import re\n",
    "from bs4 import BeautifulSoup, Comment\n",
    "import pandas as pd"
   ]
  },
  {
   "cell_type": "code",
   "execution_count": 5,
   "metadata": {},
   "outputs": [
    {
     "name": "stdout",
     "output_type": "stream",
     "text": [
      "        City[a]        Country UN 2018 population estimates[b]  \\\n",
      "        City[a]        Country UN 2018 population estimates[b]   \n",
      "0         Tokyo          Japan                        37468000   \n",
      "1         Delhi          India                        28514000   \n",
      "2      Shanghai          China                        25582000   \n",
      "3     São Paulo         Brazil                        21650000   \n",
      "4   Mexico City         Mexico                        21581000   \n",
      "..          ...            ...                             ...   \n",
      "76   Washington  United States                         5207000   \n",
      "77       Yangon        Myanmar                         5157000   \n",
      "78   Alexandria          Egypt                         5086000   \n",
      "79        Jinan          China                         5052000   \n",
      "80  Guadalajara         Mexico                         5023000   \n",
      "\n",
      "           City proper[c]                                      Urban area[8]  \\\n",
      "               Definition Population Area (km2) Density (/km2)    Population   \n",
      "0   Metropolis prefecture   13515271       2191         6,169       37732000   \n",
      "1   Municipal corporation   16753235       1484        11,289       32226000   \n",
      "2            Municipality   24870895       6341         3,922       24073000   \n",
      "3            Municipality   12252023       1521         8,055       23086000   \n",
      "4              City-state    9209944       1485         6,202       21804000   \n",
      "..                    ...        ...        ...            ...           ...   \n",
      "76       Federal district     702455        177         3,969        7631000   \n",
      "77                   City  4,728,524          —              —       6874000   \n",
      "78      Urban governorate    5441866       2300          2,366       4712000   \n",
      "79  City (sub-provincial)    9202432      10244           898        4017000   \n",
      "80           Municipality    1385621        151         9,176        5525000   \n",
      "\n",
      "                             Metropolitan area[d]                            \n",
      "   Area (km2) Density (/km2)           Population Area (km2) Density (/km2)  \n",
      "0        8231         4,584              37274000      13452         2,771   \n",
      "1        2344        13,748              29000000       3483         8,326   \n",
      "2        4333         5,556                     —          —              —  \n",
      "3        3649         6,327              21734682       7947         2,735   \n",
      "4        2530           8618             21804515       7866         2,772   \n",
      "..        ...            ...                  ...        ...            ...  \n",
      "76       5501         1,387               6263245      17009           368   \n",
      "77        666          10321                    —          —              —  \n",
      "78        293          16082                    —          —              —  \n",
      "79        932           4310                    —          —              —  \n",
      "80        816           6771              5286642       3560           1485  \n",
      "\n",
      "[81 rows x 13 columns]\n"
     ]
    }
   ],
   "source": [
    "wikipedia = \"https://en.wikipedia.org/wiki/\" # Wikipedia Root URL\n",
    "cities = \"List_of_largest_cities\" # World Cities Sub-URL\n",
    "\n",
    "tables = pd.read_html(wikipedia + cities)\n",
    "\n",
    "cities_df = tables[3]  # Index of the cities data table\n",
    "\n",
    "# Loop through each cell and remove brackets and their inner characters\n",
    "for col in cities_df.columns:\n",
    "    cities_df[col] = cities_df[col].apply(lambda x: re.sub(r'\\[.*?\\]', '', str(x)))\n",
    "\n",
    "print(cities_df)\n",
    "\n",
    "# Save the DataFrame to a CSV file\n",
    "cities_df.to_csv('cities.csv', index=False)"
   ]
  }
 ],
 "metadata": {
  "kernelspec": {
   "display_name": "Python 3",
   "language": "python",
   "name": "python3"
  },
  "language_info": {
   "codemirror_mode": {
    "name": "ipython",
    "version": 3
   },
   "file_extension": ".py",
   "mimetype": "text/x-python",
   "name": "python",
   "nbconvert_exporter": "python",
   "pygments_lexer": "ipython3",
   "version": "3.11.8"
  }
 },
 "nbformat": 4,
 "nbformat_minor": 2
}
